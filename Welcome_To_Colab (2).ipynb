{
  "cells": [
    {
      "cell_type": "code",
      "source": [
        "!pip install pandas numpy scikit-learn matplotlib seaborn xgboost"
      ],
      "metadata": {
        "id": "kr7hlAhZUjS6",
        "colab": {
          "base_uri": "https://localhost:8080/"
        },
        "outputId": "435ce05a-0d00-4595-c1b1-0831b09d5a03"
      },
      "execution_count": 2,
      "outputs": [
        {
          "output_type": "stream",
          "name": "stdout",
          "text": [
            "Requirement already satisfied: pandas in /usr/local/lib/python3.10/dist-packages (2.1.4)\n",
            "Requirement already satisfied: numpy in /usr/local/lib/python3.10/dist-packages (1.26.4)\n",
            "Requirement already satisfied: scikit-learn in /usr/local/lib/python3.10/dist-packages (1.3.2)\n",
            "Requirement already satisfied: matplotlib in /usr/local/lib/python3.10/dist-packages (3.7.1)\n",
            "Requirement already satisfied: seaborn in /usr/local/lib/python3.10/dist-packages (0.13.1)\n",
            "Requirement already satisfied: xgboost in /usr/local/lib/python3.10/dist-packages (2.1.1)\n",
            "Requirement already satisfied: python-dateutil>=2.8.2 in /usr/local/lib/python3.10/dist-packages (from pandas) (2.8.2)\n",
            "Requirement already satisfied: pytz>=2020.1 in /usr/local/lib/python3.10/dist-packages (from pandas) (2024.1)\n",
            "Requirement already satisfied: tzdata>=2022.1 in /usr/local/lib/python3.10/dist-packages (from pandas) (2024.1)\n",
            "Requirement already satisfied: scipy>=1.5.0 in /usr/local/lib/python3.10/dist-packages (from scikit-learn) (1.13.1)\n",
            "Requirement already satisfied: joblib>=1.1.1 in /usr/local/lib/python3.10/dist-packages (from scikit-learn) (1.4.2)\n",
            "Requirement already satisfied: threadpoolctl>=2.0.0 in /usr/local/lib/python3.10/dist-packages (from scikit-learn) (3.5.0)\n",
            "Requirement already satisfied: contourpy>=1.0.1 in /usr/local/lib/python3.10/dist-packages (from matplotlib) (1.2.1)\n",
            "Requirement already satisfied: cycler>=0.10 in /usr/local/lib/python3.10/dist-packages (from matplotlib) (0.12.1)\n",
            "Requirement already satisfied: fonttools>=4.22.0 in /usr/local/lib/python3.10/dist-packages (from matplotlib) (4.53.1)\n",
            "Requirement already satisfied: kiwisolver>=1.0.1 in /usr/local/lib/python3.10/dist-packages (from matplotlib) (1.4.5)\n",
            "Requirement already satisfied: packaging>=20.0 in /usr/local/lib/python3.10/dist-packages (from matplotlib) (24.1)\n",
            "Requirement already satisfied: pillow>=6.2.0 in /usr/local/lib/python3.10/dist-packages (from matplotlib) (9.4.0)\n",
            "Requirement already satisfied: pyparsing>=2.3.1 in /usr/local/lib/python3.10/dist-packages (from matplotlib) (3.1.2)\n",
            "Collecting nvidia-nccl-cu12 (from xgboost)\n",
            "  Downloading nvidia_nccl_cu12-2.22.3-py3-none-manylinux2014_x86_64.whl.metadata (1.8 kB)\n",
            "Requirement already satisfied: six>=1.5 in /usr/local/lib/python3.10/dist-packages (from python-dateutil>=2.8.2->pandas) (1.16.0)\n",
            "Downloading nvidia_nccl_cu12-2.22.3-py3-none-manylinux2014_x86_64.whl (190.9 MB)\n",
            "\u001b[2K   \u001b[90m━━━━━━━━━━━━━━━━━━━━━━━━━━━━━━━━━━━━━━━━\u001b[0m \u001b[32m190.9/190.9 MB\u001b[0m \u001b[31m2.3 MB/s\u001b[0m eta \u001b[36m0:00:00\u001b[0m\n",
            "\u001b[?25hInstalling collected packages: nvidia-nccl-cu12\n",
            "\u001b[31mERROR: pip's dependency resolver does not currently take into account all the packages that are installed. This behaviour is the source of the following dependency conflicts.\n",
            "torch 2.3.1+cu121 requires nvidia-cublas-cu12==12.1.3.1; platform_system == \"Linux\" and platform_machine == \"x86_64\", which is not installed.\n",
            "torch 2.3.1+cu121 requires nvidia-cuda-cupti-cu12==12.1.105; platform_system == \"Linux\" and platform_machine == \"x86_64\", which is not installed.\n",
            "torch 2.3.1+cu121 requires nvidia-cuda-nvrtc-cu12==12.1.105; platform_system == \"Linux\" and platform_machine == \"x86_64\", which is not installed.\n",
            "torch 2.3.1+cu121 requires nvidia-cuda-runtime-cu12==12.1.105; platform_system == \"Linux\" and platform_machine == \"x86_64\", which is not installed.\n",
            "torch 2.3.1+cu121 requires nvidia-cudnn-cu12==8.9.2.26; platform_system == \"Linux\" and platform_machine == \"x86_64\", which is not installed.\n",
            "torch 2.3.1+cu121 requires nvidia-cufft-cu12==11.0.2.54; platform_system == \"Linux\" and platform_machine == \"x86_64\", which is not installed.\n",
            "torch 2.3.1+cu121 requires nvidia-curand-cu12==10.3.2.106; platform_system == \"Linux\" and platform_machine == \"x86_64\", which is not installed.\n",
            "torch 2.3.1+cu121 requires nvidia-cusolver-cu12==11.4.5.107; platform_system == \"Linux\" and platform_machine == \"x86_64\", which is not installed.\n",
            "torch 2.3.1+cu121 requires nvidia-cusparse-cu12==12.1.0.106; platform_system == \"Linux\" and platform_machine == \"x86_64\", which is not installed.\n",
            "torch 2.3.1+cu121 requires nvidia-nvtx-cu12==12.1.105; platform_system == \"Linux\" and platform_machine == \"x86_64\", which is not installed.\n",
            "torch 2.3.1+cu121 requires nvidia-nccl-cu12==2.20.5; platform_system == \"Linux\" and platform_machine == \"x86_64\", but you have nvidia-nccl-cu12 2.22.3 which is incompatible.\u001b[0m\u001b[31m\n",
            "\u001b[0mSuccessfully installed nvidia-nccl-cu12-2.22.3\n"
          ]
        }
      ]
    },
    {
      "cell_type": "code",
      "source": [
        "import pandas as pd\n",
        "import numpy as np\n",
        "import matplotlib.pyplot as plt\n",
        "import seaborn as sns\n",
        "from sklearn.model_selection import train_test_split\n",
        "from sklearn.preprocessing import StandardScaler\n",
        "from sklearn.decomposition import PCA\n",
        "from sklearn.cluster import KMeans\n",
        "from sklearn.metrics import classification_report, confusion_matrix\n",
        "from sklearn.tree import DecisionTreeClassifier, export_text\n",
        "from xgboost import XGBClassifier\n",
        "import warnings\n",
        "warnings.filterwarnings('ignore')"
      ],
      "metadata": {
        "id": "QJx-jrMJWV6i"
      },
      "execution_count": 3,
      "outputs": []
    },
    {
      "cell_type": "code",
      "source": [
        "transactions_train = pd.read_excel('transactionsdata_Train.xlsx')\n",
        "email_train = pd.read_excel('Emaildata_Train.xlsx')\n",
        "customer_test = pd.read_excel('Customerdata_Test.xlsx')\n",
        "train_data = pd.read_excel('Train.xlsx')\n",
        "test_data = pd.read_excel('Test.xlsx')"
      ],
      "metadata": {
        "id": "0M_OQ-Q7WWyg"
      },
      "execution_count": 4,
      "outputs": []
    },
    {
      "cell_type": "code",
      "source": [
        "\n",
        "data = train_data.merge(transactions_train, on='CustomerID', how='left').merge(email_train, on='CustomerID', how='left')\n",
        "\n",
        "print(data.describe())\n",
        "print(data.isnull().sum())"
      ],
      "metadata": {
        "id": "IQso4talWdUl",
        "outputId": "f40636dc-6b51-4186-8725-fc6c463c321b",
        "colab": {
          "base_uri": "https://localhost:8080/"
        }
      },
      "execution_count": 5,
      "outputs": [
        {
          "output_type": "stream",
          "name": "stdout",
          "text": [
            "       OrderQuantity\n",
            "count   3.883469e+06\n",
            "mean    8.632433e+01\n",
            "std     4.650906e+01\n",
            "min     0.000000e+00\n",
            "25%     5.500000e+01\n",
            "50%     7.700000e+01\n",
            "75%     1.060000e+02\n",
            "max     1.501000e+03\n",
            "CustomerID            0\n",
            "RetentionPotential    0\n",
            "DateOfOrder           0\n",
            "timestamp_x           0\n",
            "OrderQuantity         0\n",
            "DateOfemail           0\n",
            "EmailType             0\n",
            "timestamp_y           0\n",
            "MailOpened            0\n",
            "MailClicked           0\n",
            "dtype: int64\n"
          ]
        }
      ]
    },
    {
      "cell_type": "code",
      "source": [
        "plt.figure(figsize=(10, 6))\n",
        "sns.countplot(data['RetentionPotential'])\n",
        "plt.title('Distribution of Retention Potential')\n",
        "plt.show()"
      ],
      "metadata": {
        "id": "spcQaFHBWf1R",
        "outputId": "b243d94b-84c9-4fed-b779-9a9976a16f66",
        "colab": {
          "base_uri": "https://localhost:8080/",
          "height": 564
        }
      },
      "execution_count": 6,
      "outputs": [
        {
          "output_type": "display_data",
          "data": {
            "text/plain": [
              "<Figure size 1000x600 with 1 Axes>"
            ],
            "image/png": "[encoded data removed]"
          },
          "metadata": {}
        }
      ]
    },
    {
      "cell_type": "code",
      "source": [
        "\n",
        "\n",
        "data['DateOfOrder'] = pd.to_datetime(data['DateOfOrder'])\n",
        "data['OrderMonth'] = data['DateOfOrder'].dt.month\n",
        "data['OrderYear'] = data['DateOfOrder'].dt.year\n"
      ],
      "metadata": {
        "id": "p46fR0TgWilv"
      },
      "execution_count": 7,
      "outputs": []
    },
    {
      "cell_type": "code",
      "source": [
        "X = data.drop(['CustomerID', 'RetentionPotential'], axis=1)\n",
        "y = data['RetentionPotential']"
      ],
      "metadata": {
        "id": "i5HN0fE9Wm-B"
      },
      "execution_count": 8,
      "outputs": []
    },
    {
      "cell_type": "code",
      "source": [
        "X_train, X_valid, y_train, y_valid = train_test_split(X, y, test_size=0.2, random_state=42)"
      ],
      "metadata": {
        "id": "Go1yu_MsZ1CK"
      },
      "execution_count": 9,
      "outputs": []
    },
    {
      "cell_type": "code",
      "source": [
        "from sklearn.preprocessing import LabelEncoder\n",
        "\n",
        "categorical_columns = ['EmailType', 'MailOpened', 'MailClicked']\n",
        "le = LabelEncoder()\n",
        "\n",
        "for column in categorical_columns:\n",
        "    X_train[column] = le.fit_transform(X_train[column])\n",
        "    X_valid[column] = le.transform(X_valid[column])\n"
      ],
      "metadata": {
        "id": "JXn8KLOFbVIG"
      },
      "execution_count": 10,
      "outputs": []
    },
    {
      "cell_type": "code",
      "source": [
        "X_train = pd.get_dummies(X_train, columns=categorical_columns)\n",
        "X_valid = pd.get_dummies(X_valid, columns=categorical_columns)\n"
      ],
      "metadata": {
        "id": "SN7rmoVNbZEj"
      },
      "execution_count": 11,
      "outputs": []
    },
    {
      "cell_type": "code",
      "source": [
        "X_train['timestamp_x'] = pd.to_datetime(X_train['timestamp_x'])\n",
        "X_train['timestamp_y'] = pd.to_datetime(X_train['timestamp_y'])\n",
        "\n",
        "X_train['timestamp_x_hour'] = X_train['timestamp_x'].dt.hour\n",
        "X_train['timestamp_y_hour'] = X_train['timestamp_y'].dt.hour\n",
        "\n",
        "X_train = X_train.drop(['timestamp_x', 'timestamp_y'], axis=1)\n"
      ],
      "metadata": {
        "id": "d_8H-aA8bbyi"
      },
      "execution_count": 12,
      "outputs": []
    },
    {
      "cell_type": "code",
      "source": [
        "print(\"Data types in X_train after processing:\")\n",
        "print(X_train.dtypes)\n"
      ],
      "metadata": {
        "id": "MJ8atZtmbfjB",
        "outputId": "251a101a-7c68-4433-b281-1a75a85e0d16",
        "colab": {
          "base_uri": "https://localhost:8080/"
        }
      },
      "execution_count": 13,
      "outputs": [
        {
          "output_type": "stream",
          "name": "stdout",
          "text": [
            "Data types in X_train after processing:\n",
            "DateOfOrder         datetime64[ns]\n",
            "OrderQuantity                int64\n",
            "DateOfemail                 object\n",
            "OrderMonth                   int32\n",
            "OrderYear                    int32\n",
            "EmailType_0                   bool\n",
            "EmailType_1                   bool\n",
            "MailOpened_0                  bool\n",
            "MailOpened_1                  bool\n",
            "MailClicked_0                 bool\n",
            "MailClicked_1                 bool\n",
            "MailClicked_2                 bool\n",
            "timestamp_x_hour             int32\n",
            "timestamp_y_hour             int32\n",
            "dtype: object\n"
          ]
        }
      ]
    },
    {
      "cell_type": "code",
      "source": [
        "bool_columns = ['EmailType_0', 'EmailType_1', 'MailOpened_0', 'MailOpened_1', 'MailClicked_0', 'MailClicked_1', 'MailClicked_2']\n",
        "for column in bool_columns:\n",
        "    X_train[column] = X_train[column].astype(int)"
      ],
      "metadata": {
        "id": "21UdxM3vceMK"
      },
      "execution_count": 14,
      "outputs": []
    },
    {
      "cell_type": "code",
      "source": [
        "X_train['DateOfemail'] = pd.factorize(X_train['DateOfemail'])[0]\n",
        "\n",
        "print(\"Data types in X_train after processing:\")\n",
        "print(X_train.dtypes)\n"
      ],
      "metadata": {
        "id": "2XeSgeNzchQ2",
        "outputId": "9d9c1f29-462d-41d2-b0d3-e671fd376e48",
        "colab": {
          "base_uri": "https://localhost:8080/"
        }
      },
      "execution_count": 15,
      "outputs": [
        {
          "output_type": "stream",
          "name": "stdout",
          "text": [
            "Data types in X_train after processing:\n",
            "DateOfOrder         datetime64[ns]\n",
            "OrderQuantity                int64\n",
            "DateOfemail                  int64\n",
            "OrderMonth                   int32\n",
            "OrderYear                    int32\n",
            "EmailType_0                  int64\n",
            "EmailType_1                  int64\n",
            "MailOpened_0                 int64\n",
            "MailOpened_1                 int64\n",
            "MailClicked_0                int64\n",
            "MailClicked_1                int64\n",
            "MailClicked_2                int64\n",
            "timestamp_x_hour             int32\n",
            "timestamp_y_hour             int32\n",
            "dtype: object\n"
          ]
        }
      ]
    },
    {
      "cell_type": "code",
      "source": [
        "X_valid = X_valid.reindex(columns=X_train.columns, fill_value=0)\n"
      ],
      "metadata": {
        "id": "EA4xNgR7cyVy"
      },
      "execution_count": 16,
      "outputs": []
    },
    {
      "cell_type": "code",
      "source": [
        "bool_columns = ['EmailType_0', 'EmailType_1', 'MailOpened_0', 'MailOpened_1', 'MailClicked_0', 'MailClicked_1', 'MailClicked_2']\n",
        "for column in bool_columns:\n",
        "    if column in X_valid.columns:\n",
        "        X_valid[column] = X_valid[column].astype(int)\n",
        "\n",
        "if 'DateOfOrder' in X_valid.columns:\n",
        "    X_valid['DateOfOrder'] = pd.to_datetime(X_valid['DateOfOrder'])\n",
        "    X_valid['DateOfOrder_day'] = (X_valid['DateOfOrder'] - X_valid['DateOfOrder'].min()).dt.days\n",
        "    X_valid = X_valid.drop('DateOfOrder', axis=1)\n",
        "\n",
        "X_valid = X_valid.reindex(columns=X_train.columns, fill_value=0)\n"
      ],
      "metadata": {
        "id": "t-7Kz006c_iP"
      },
      "execution_count": 17,
      "outputs": []
    },
    {
      "cell_type": "code",
      "source": [
        "\n",
        "datetime_columns = X_train.select_dtypes(include=['datetime64[ns]', 'datetime64[ns, UTC]']).columns.tolist()\n",
        "\n",
        "string_columns = X_train.select_dtypes(include=['object']).columns.tolist()\n",
        "\n",
        "for column in string_columns:\n",
        "    try:\n",
        "        X_train[column] = X_train[column].astype(float)\n",
        "    except ValueError:\n",
        "        print(f\"Column {column} could not be converted to float and will be excluded.\")\n",
        "        X_train = X_train.drop(column, axis=1)\n",
        "\n",
        "for column in datetime_columns:\n",
        "    X_train[column + '_day'] = (X_train[column] - X_train[column].min()).dt.days\n",
        "    X_train[column + '_hour'] = X_train[column].dt.hour\n",
        "    X_train[column + '_month'] = X_train[column].dt.month\n",
        "    X_train[column + '_year'] = X_train[column].dt.year\n",
        "\n",
        "    X_train = X_train.drop(column, axis=1)\n",
        "\n"
      ],
      "metadata": {
        "id": "1O5DsC9ZcVK3"
      },
      "execution_count": 35,
      "outputs": []
    },
    {
      "cell_type": "code",
      "source": [
        "from sklearn.preprocessing import LabelEncoder\n",
        "\n",
        "label_encoder = LabelEncoder()\n",
        "\n",
        "y_train_encoded = label_encoder.fit_transform(y_train)\n",
        "\n",
        "y_valid_encoded = label_encoder.transform(y_valid)\n",
        "\n",
        "print(\"Unique classes in y_train_encoded:\", np.unique(y_train_encoded))\n",
        "print(\"Unique classes in y_valid_encoded:\", np.unique(y_valid_encoded))\n"
      ],
      "metadata": {
        "id": "e1e-EtlOdqTq",
        "outputId": "d1614424-bbd4-4772-fb67-748939dfbc34",
        "colab": {
          "base_uri": "https://localhost:8080/"
        }
      },
      "execution_count": 22,
      "outputs": [
        {
          "output_type": "stream",
          "name": "stdout",
          "text": [
            "Unique classes in y_train_encoded: [0 1 2]\n",
            "Unique classes in y_valid_encoded: [0 1 2]\n"
          ]
        }
      ]
    },
    {
      "cell_type": "code",
      "source": [
        "from xgboost import XGBClassifier\n",
        "\n",
        "xgb_model = XGBClassifier(use_label_encoder=False, eval_metric='mlogloss')\n",
        "\n",
        "xgb_model.fit(X_train_scaled, y_train_encoded)\n"
      ],
      "metadata": {
        "id": "l2YQbXM2Wrqi",
        "outputId": "a311b34c-fe3d-43f9-c396-4888cd1c5efd",
        "colab": {
          "base_uri": "https://localhost:8080/",
          "height": 248
        }
      },
      "execution_count": 36,
      "outputs": [
        {
          "output_type": "execute_result",
          "data": {
            "text/plain": [
              "XGBClassifier(base_score=None, booster=None, callbacks=None,\n",
              "              colsample_bylevel=None, colsample_bynode=None,\n",
              "              colsample_bytree=None, device=None, early_stopping_rounds=None,\n",
              "              enable_categorical=False, eval_metric='mlogloss',\n",
              "              feature_types=None, gamma=None, grow_policy=None,\n",
              "              importance_type=None, interaction_constraints=None,\n",
              "              learning_rate=None, max_bin=None, max_cat_threshold=None,\n",
              "              max_cat_to_onehot=None, max_delta_step=None, max_depth=None,\n",
              "              max_leaves=None, min_child_weight=None, missing=nan,\n",
              "              monotone_constraints=None, multi_strategy=None, n_estimators=None,\n",
              "              n_jobs=None, num_parallel_tree=None, objective='multi:softprob', ...)"
            ],
            "text/html": [
              "<style>#sk-container-id-1 {color: black;}#sk-container-id-1 pre{padding: 0;}#sk-container-id-1 div.sk-toggleable {background-color: white;}#sk-container-id-1 label.sk-toggleable__label {cursor: pointer;display: block;width: 100%;margin-bottom: 0;padding: 0.3em;box-sizing: border-box;text-align: center;}#sk-container-id-1 label.sk-toggleable__label-arrow:before {content: \"▸\";float: left;margin-right: 0.25em;color: #696969;}#sk-container-id-1 label.sk-toggleable__label-arrow:hover:before {color: black;}#sk-container-id-1 div.sk-estimator:hover label.sk-toggleable__label-arrow:before {color: black;}#sk-container-id-1 div.sk-toggleable__content {max-height: 0;max-width: 0;overflow: hidden;text-align: left;background-color: #f0f8ff;}#sk-container-id-1 div.sk-toggleable__content pre {margin: 0.2em;color: black;border-radius: 0.25em;background-color: #f0f8ff;}#sk-container-id-1 input.sk-toggleable__control:checked~div.sk-toggleable__content {max-height: 200px;max-width: 100%;overflow: auto;}#sk-container-id-1 input.sk-toggleable__control:checked~label.sk-toggleable__label-arrow:before {content: \"▾\";}#sk-container-id-1 div.sk-estimator input.sk-toggleable__control:checked~label.sk-toggleable__label {background-color: #d4ebff;}#sk-container-id-1 div.sk-label input.sk-toggleable__control:checked~label.sk-toggleable__label {background-color: #d4ebff;}#sk-container-id-1 input.sk-hidden--visually {border: 0;clip: rect(1px 1px 1px 1px);clip: rect(1px, 1px, 1px, 1px);height: 1px;margin: -1px;overflow: hidden;padding: 0;position: absolute;width: 1px;}#sk-container-id-1 div.sk-estimator {font-family: monospace;background-color: #f0f8ff;border: 1px dotted black;border-radius: 0.25em;box-sizing: border-box;margin-bottom: 0.5em;}#sk-container-id-1 div.sk-estimator:hover {background-color: #d4ebff;}#sk-container-id-1 div.sk-parallel-item::after {content: \"\";width: 100%;border-bottom: 1px solid gray;flex-grow: 1;}#sk-container-id-1 div.sk-label:hover label.sk-toggleable__label {background-color: #d4ebff;}#sk-container-id-1 div.sk-serial::before {content: \"\";position: absolute;border-left: 1px solid gray;box-sizing: border-box;top: 0;bottom: 0;left: 50%;z-index: 0;}#sk-container-id-1 div.sk-serial {display: flex;flex-direction: column;align-items: center;background-color: white;padding-right: 0.2em;padding-left: 0.2em;position: relative;}#sk-container-id-1 div.sk-item {position: relative;z-index: 1;}#sk-container-id-1 div.sk-parallel {display: flex;align-items: stretch;justify-content: center;background-color: white;position: relative;}#sk-container-id-1 div.sk-item::before, #sk-container-id-1 div.sk-parallel-item::before {content: \"\";position: absolute;border-left: 1px solid gray;box-sizing: border-box;top: 0;bottom: 0;left: 50%;z-index: -1;}#sk-container-id-1 div.sk-parallel-item {display: flex;flex-direction: column;z-index: 1;position: relative;background-color: white;}#sk-container-id-1 div.sk-parallel-item:first-child::after {align-self: flex-end;width: 50%;}#sk-container-id-1 div.sk-parallel-item:last-child::after {align-self: flex-start;width: 50%;}#sk-container-id-1 div.sk-parallel-item:only-child::after {width: 0;}#sk-container-id-1 div.sk-dashed-wrapped {border: 1px dashed gray;margin: 0 0.4em 0.5em 0.4em;box-sizing: border-box;padding-bottom: 0.4em;background-color: white;}#sk-container-id-1 div.sk-label label {font-family: monospace;font-weight: bold;display: inline-block;line-height: 1.2em;}#sk-container-id-1 div.sk-label-container {text-align: center;}#sk-container-id-1 div.sk-container {/* jupyter's `normalize.less` sets `[hidden] { display: none; }` but bootstrap.min.css set `[hidden] { display: none !important; }` so we also need the `!important` here to be able to override the default hidden behavior on the sphinx rendered scikit-learn.org. See: https://github.com/scikit-learn/scikit-learn/issues/21755 */display: inline-block !important;position: relative;}#sk-container-id-1 div.sk-text-repr-fallback {display: none;}</style><div id=\"sk-container-id-1\" class=\"sk-top-container\"><div class=\"sk-text-repr-fallback\"><pre>XGBClassifier(base_score=None, booster=None, callbacks=None,\n",
              "              colsample_bylevel=None, colsample_bynode=None,\n",
              "              colsample_bytree=None, device=None, early_stopping_rounds=None,\n",
              "              enable_categorical=False, eval_metric=&#x27;mlogloss&#x27;,\n",
              "              feature_types=None, gamma=None, grow_policy=None,\n",
              "              importance_type=None, interaction_constraints=None,\n",
              "              learning_rate=None, max_bin=None, max_cat_threshold=None,\n",
              "              max_cat_to_onehot=None, max_delta_step=None, max_depth=None,\n",
              "              max_leaves=None, min_child_weight=None, missing=nan,\n",
              "              monotone_constraints=None, multi_strategy=None, n_estimators=None,\n",
              "              n_jobs=None, num_parallel_tree=None, objective=&#x27;multi:softprob&#x27;, ...)</pre><b>In a Jupyter environment, please rerun this cell to show the HTML representation or trust the notebook. <br />On GitHub, the HTML representation is unable to render, please try loading this page with nbviewer.org.</b></div><div class=\"sk-container\" hidden><div class=\"sk-item\"><div class=\"sk-estimator sk-toggleable\"><input class=\"sk-toggleable__control sk-hidden--visually\" id=\"sk-estimator-id-1\" type=\"checkbox\" checked><label for=\"sk-estimator-id-1\" class=\"sk-toggleable__label sk-toggleable__label-arrow\">XGBClassifier</label><div class=\"sk-toggleable__content\"><pre>XGBClassifier(base_score=None, booster=None, callbacks=None,\n",
              "              colsample_bylevel=None, colsample_bynode=None,\n",
              "              colsample_bytree=None, device=None, early_stopping_rounds=None,\n",
              "              enable_categorical=False, eval_metric=&#x27;mlogloss&#x27;,\n",
              "              feature_types=None, gamma=None, grow_policy=None,\n",
              "              importance_type=None, interaction_constraints=None,\n",
              "              learning_rate=None, max_bin=None, max_cat_threshold=None,\n",
              "              max_cat_to_onehot=None, max_delta_step=None, max_depth=None,\n",
              "              max_leaves=None, min_child_weight=None, missing=nan,\n",
              "              monotone_constraints=None, multi_strategy=None, n_estimators=None,\n",
              "              n_jobs=None, num_parallel_tree=None, objective=&#x27;multi:softprob&#x27;, ...)</pre></div></div></div></div></div>"
            ]
          },
          "metadata": {},
          "execution_count": 36
        }
      ]
    },
    {
      "cell_type": "code",
      "source": [
        "from sklearn.model_selection import learning_curve\n",
        "\n",
        "train_sizes, train_scores, test_scores = learning_curve(xgb_model, X_train_scaled, y_train, cv=5)\n",
        "train_scores_mean = np.mean(train_scores, axis=1)\n",
        "test_scores_mean = np.mean(test_scores, axis=1)"
      ],
      "metadata": {
        "id": "vyrmWuYxWtrt"
      },
      "execution_count": 37,
      "outputs": []
    },
    {
      "cell_type": "code",
      "source": [
        "plt.figure(figsize=(10, 6))\n",
        "plt.plot(train_sizes, train_scores_mean, label='Training score')\n",
        "plt.plot(train_sizes, test_scores_mean, label='Cross-validation score')\n",
        "plt.title('Learning Curve')\n",
        "plt.xlabel('Training Size')\n",
        "plt.ylabel('Score')\n",
        "plt.legend()\n",
        "plt.show()"
      ],
      "metadata": {
        "id": "G6NyuJfoWvy7",
        "colab": {
          "base_uri": "https://localhost:8080/",
          "height": 564
        },
        "outputId": "4f9c7c9c-4791-43f7-c2ea-6e263eafc460"
      },
      "execution_count": 61,
      "outputs": [
        {
          "output_type": "display_data",
          "data": {
            "text/plain": [
              "<Figure size 1000x600 with 1 Axes>"
            ],
            "image/png": "[encoded data removed]"
          },
          "metadata": {}
        }
      ]
    },
    {
      "cell_type": "code",
      "source": [
        "\n",
        "import pandas as pd\n",
        "\n",
        "\n",
        "X_test = pd.read_excel('Test.xlsx')\n",
        "\n",
        "\n",
        "datetime_columns_test = X_test.select_dtypes(include=['datetime64[ns]', 'datetime64[ns, UTC]']).columns.tolist()\n",
        "\n",
        "string_columns_test = X_test.select_dtypes(include=['object']).columns.tolist()\n",
        "\n",
        "for column in string_columns_test:\n",
        "    try:\n",
        "        X_test[column] = X_test[column].astype(float)\n",
        "    except ValueError:\n",
        "        print(f\"Column {column} could not be converted to float and will be excluded.\")\n",
        "        X_test = X_test.drop(column, axis=1)\n",
        "\n",
        "for column in datetime_columns_test:\n",
        "    X_test[column + '_day'] = (X_test[column] - X_test[column].min()).dt.days\n",
        "    X_test[column + '_hour'] = X_test[column].dt.hour\n",
        "    X_test[column + '_month'] = X_test[column].dt.month\n",
        "    X_test[column + '_year'] = X_test[column].dt.year\n",
        "\n",
        "\n",
        "    X_test = X_test.drop(column, axis=1)\n",
        "\n",
        "\n",
        "X_test = X_test.reindex(columns=X_train.columns, fill_value=0)\n",
        "\n"
      ],
      "metadata": {
        "id": "cGUespwcfBiy",
        "colab": {
          "base_uri": "https://localhost:8080/"
        },
        "outputId": "8f5fc45b-0975-427a-88fa-345d53007d8e"
      },
      "execution_count": 42,
      "outputs": [
        {
          "output_type": "stream",
          "name": "stdout",
          "text": [
            "Column CustomerID could not be converted to float and will be excluded.\n"
          ]
        }
      ]
    },
    {
      "cell_type": "code",
      "source": [
        "\n",
        "from sklearn.cluster import KMeans\n",
        "from sklearn.preprocessing import StandardScaler\n",
        "import pandas as pd\n",
        "\n",
        "\n",
        "n_clusters = 3\n",
        "kmeans = KMeans(n_clusters=n_clusters, random_state=42)\n",
        "kmeans.fit(X_train_scaled)\n",
        "\n",
        "\n",
        "print(\"KMeans centroids:\\n\", kmeans.cluster_centers_)\n",
        "\n",
        "\n",
        "print(\"Scaler mean:\", scaler.mean_)\n",
        "print(\"Scaler var:\", scaler.var_)\n",
        "\n",
        "\n",
        "if X_test.shape[1] == X_train_scaled.shape[1]:\n",
        "    X_test_scaled = scaler.transform(X_test)\n",
        "    test_data = pd.DataFrame(X_test)\n",
        "    test_data['Segment'] = kmeans.predict(X_test_scaled)\n",
        "else:\n",
        "    print(\"Mismatch in number of features between training and test data.\")\n",
        "\n"
      ],
      "metadata": {
        "id": "TI40N7PqfEga",
        "outputId": "d12ac95a-3e1d-4745-fb18-368cb827999b",
        "colab": {
          "base_uri": "https://localhost:8080/"
        }
      },
      "execution_count": 46,
      "outputs": [
        {
          "output_type": "stream",
          "name": "stdout",
          "text": [
            "KMeans centroids:\n",
            " [[ 1.98496354e-02 -1.93844048e-01  4.44609960e-04 -4.18540069e-01\n",
            "   1.66612708e-01 -1.66612708e-01  4.91627371e-02 -4.91627371e-02\n",
            "  -1.66612708e-01  8.48108850e-02  4.36702515e-03 -1.23368592e-03\n",
            "   2.16982875e-03 -4.17842031e-01  0.00000000e+00  4.44609960e-04\n",
            "  -4.18540069e-01]\n",
            " [-6.86642406e-02  7.72146638e-01 -5.78879655e-03  1.78837474e+00\n",
            "   1.66612708e-01 -1.66612708e-01 -1.20466565e-02  1.20466565e-02\n",
            "  -1.66612708e-01  6.81240116e-02  2.34876261e-02  5.07140270e-03\n",
            "  -8.92066686e-03  1.78479233e+00  0.00000000e+00 -5.78879655e-03\n",
            "   1.78837474e+00]\n",
            " [-1.09823487e-01  3.77806721e-01  2.66054827e-02 -1.28928384e-02\n",
            "  -6.00194314e+00  6.00194314e+00 -1.35247708e+00  1.35247708e+00\n",
            "   6.00194314e+00 -2.94107089e+00 -2.88054600e-01  1.32951750e-03\n",
            "  -2.33158553e-03 -8.77029333e-03  0.00000000e+00  2.66054827e-02\n",
            "  -1.28928384e-02]]\n",
            "Scaler mean: [8.63305898e+01 9.70458441e+02 7.16492633e+00 2.01310992e+03\n",
            " 9.72989998e-01 2.70100023e-02 6.46542476e-01 3.53457524e-01\n",
            " 2.70100023e-02 8.96371961e-01 7.66180364e-02 1.55247580e+01\n",
            " 1.35130294e+01 1.85847966e+03 0.00000000e+00 7.16492633e+00\n",
            " 2.01310992e+03]\n",
            "Scaler var: [2.16434704e+03 5.08659232e+05 1.23076594e+01 3.40021776e+00\n",
            " 2.62804621e-02 2.62804621e-02 2.28525303e-01 2.28525303e-01\n",
            " 2.62804621e-02 9.28892683e-02 7.07477129e-02 1.19370632e+01\n",
            " 5.20453857e+00 4.55052472e+05 0.00000000e+00 1.23076594e+01\n",
            " 3.40021776e+00]\n"
          ]
        }
      ]
    },
    {
      "cell_type": "code",
      "source": [
        "\n",
        "kmeans = KMeans(n_clusters=3, random_state=42)\n",
        "kmeans.fit(X_train_scaled)"
      ],
      "metadata": {
        "id": "lYaspeFPf5Re",
        "outputId": "c028fd01-e31b-4b72-a97e-464d61f94994",
        "colab": {
          "base_uri": "https://localhost:8080/",
          "height": 75
        }
      },
      "execution_count": 47,
      "outputs": [
        {
          "output_type": "execute_result",
          "data": {
            "text/plain": [
              "KMeans(n_clusters=3, random_state=42)"
            ],
            "text/html": [
              "<style>#sk-container-id-2 {color: black;}#sk-container-id-2 pre{padding: 0;}#sk-container-id-2 div.sk-toggleable {background-color: white;}#sk-container-id-2 label.sk-toggleable__label {cursor: pointer;display: block;width: 100%;margin-bottom: 0;padding: 0.3em;box-sizing: border-box;text-align: center;}#sk-container-id-2 label.sk-toggleable__label-arrow:before {content: \"▸\";float: left;margin-right: 0.25em;color: #696969;}#sk-container-id-2 label.sk-toggleable__label-arrow:hover:before {color: black;}#sk-container-id-2 div.sk-estimator:hover label.sk-toggleable__label-arrow:before {color: black;}#sk-container-id-2 div.sk-toggleable__content {max-height: 0;max-width: 0;overflow: hidden;text-align: left;background-color: #f0f8ff;}#sk-container-id-2 div.sk-toggleable__content pre {margin: 0.2em;color: black;border-radius: 0.25em;background-color: #f0f8ff;}#sk-container-id-2 input.sk-toggleable__control:checked~div.sk-toggleable__content {max-height: 200px;max-width: 100%;overflow: auto;}#sk-container-id-2 input.sk-toggleable__control:checked~label.sk-toggleable__label-arrow:before {content: \"▾\";}#sk-container-id-2 div.sk-estimator input.sk-toggleable__control:checked~label.sk-toggleable__label {background-color: #d4ebff;}#sk-container-id-2 div.sk-label input.sk-toggleable__control:checked~label.sk-toggleable__label {background-color: #d4ebff;}#sk-container-id-2 input.sk-hidden--visually {border: 0;clip: rect(1px 1px 1px 1px);clip: rect(1px, 1px, 1px, 1px);height: 1px;margin: -1px;overflow: hidden;padding: 0;position: absolute;width: 1px;}#sk-container-id-2 div.sk-estimator {font-family: monospace;background-color: #f0f8ff;border: 1px dotted black;border-radius: 0.25em;box-sizing: border-box;margin-bottom: 0.5em;}#sk-container-id-2 div.sk-estimator:hover {background-color: #d4ebff;}#sk-container-id-2 div.sk-parallel-item::after {content: \"\";width: 100%;border-bottom: 1px solid gray;flex-grow: 1;}#sk-container-id-2 div.sk-label:hover label.sk-toggleable__label {background-color: #d4ebff;}#sk-container-id-2 div.sk-serial::before {content: \"\";position: absolute;border-left: 1px solid gray;box-sizing: border-box;top: 0;bottom: 0;left: 50%;z-index: 0;}#sk-container-id-2 div.sk-serial {display: flex;flex-direction: column;align-items: center;background-color: white;padding-right: 0.2em;padding-left: 0.2em;position: relative;}#sk-container-id-2 div.sk-item {position: relative;z-index: 1;}#sk-container-id-2 div.sk-parallel {display: flex;align-items: stretch;justify-content: center;background-color: white;position: relative;}#sk-container-id-2 div.sk-item::before, #sk-container-id-2 div.sk-parallel-item::before {content: \"\";position: absolute;border-left: 1px solid gray;box-sizing: border-box;top: 0;bottom: 0;left: 50%;z-index: -1;}#sk-container-id-2 div.sk-parallel-item {display: flex;flex-direction: column;z-index: 1;position: relative;background-color: white;}#sk-container-id-2 div.sk-parallel-item:first-child::after {align-self: flex-end;width: 50%;}#sk-container-id-2 div.sk-parallel-item:last-child::after {align-self: flex-start;width: 50%;}#sk-container-id-2 div.sk-parallel-item:only-child::after {width: 0;}#sk-container-id-2 div.sk-dashed-wrapped {border: 1px dashed gray;margin: 0 0.4em 0.5em 0.4em;box-sizing: border-box;padding-bottom: 0.4em;background-color: white;}#sk-container-id-2 div.sk-label label {font-family: monospace;font-weight: bold;display: inline-block;line-height: 1.2em;}#sk-container-id-2 div.sk-label-container {text-align: center;}#sk-container-id-2 div.sk-container {/* jupyter's `normalize.less` sets `[hidden] { display: none; }` but bootstrap.min.css set `[hidden] { display: none !important; }` so we also need the `!important` here to be able to override the default hidden behavior on the sphinx rendered scikit-learn.org. See: https://github.com/scikit-learn/scikit-learn/issues/21755 */display: inline-block !important;position: relative;}#sk-container-id-2 div.sk-text-repr-fallback {display: none;}</style><div id=\"sk-container-id-2\" class=\"sk-top-container\"><div class=\"sk-text-repr-fallback\"><pre>KMeans(n_clusters=3, random_state=42)</pre><b>In a Jupyter environment, please rerun this cell to show the HTML representation or trust the notebook. <br />On GitHub, the HTML representation is unable to render, please try loading this page with nbviewer.org.</b></div><div class=\"sk-container\" hidden><div class=\"sk-item\"><div class=\"sk-estimator sk-toggleable\"><input class=\"sk-toggleable__control sk-hidden--visually\" id=\"sk-estimator-id-2\" type=\"checkbox\" checked><label for=\"sk-estimator-id-2\" class=\"sk-toggleable__label sk-toggleable__label-arrow\">KMeans</label><div class=\"sk-toggleable__content\"><pre>KMeans(n_clusters=3, random_state=42)</pre></div></div></div></div></div>"
            ]
          },
          "metadata": {},
          "execution_count": 47
        }
      ]
    },
    {
      "cell_type": "code",
      "source": [
        "\n",
        "test_data['Segment'] = kmeans.predict(X_test_scaled)"
      ],
      "metadata": {
        "id": "E4kMzS5nf8Hp"
      },
      "execution_count": 49,
      "outputs": []
    },
    {
      "cell_type": "code",
      "source": [
        "tree_model = DecisionTreeClassifier(max_depth=5, random_state=42)\n",
        "tree_model.fit(X_train_scaled, y_train)"
      ],
      "metadata": {
        "id": "uiOpOkZNgHjB",
        "outputId": "6bb8fe4a-5a5e-4349-9d9e-310a5d482f02",
        "colab": {
          "base_uri": "https://localhost:8080/",
          "height": 75
        }
      },
      "execution_count": 50,
      "outputs": [
        {
          "output_type": "execute_result",
          "data": {
            "text/plain": [
              "DecisionTreeClassifier(max_depth=5, random_state=42)"
            ],
            "text/html": [
              "<style>#sk-container-id-3 {color: black;}#sk-container-id-3 pre{padding: 0;}#sk-container-id-3 div.sk-toggleable {background-color: white;}#sk-container-id-3 label.sk-toggleable__label {cursor: pointer;display: block;width: 100%;margin-bottom: 0;padding: 0.3em;box-sizing: border-box;text-align: center;}#sk-container-id-3 label.sk-toggleable__label-arrow:before {content: \"▸\";float: left;margin-right: 0.25em;color: #696969;}#sk-container-id-3 label.sk-toggleable__label-arrow:hover:before {color: black;}#sk-container-id-3 div.sk-estimator:hover label.sk-toggleable__label-arrow:before {color: black;}#sk-container-id-3 div.sk-toggleable__content {max-height: 0;max-width: 0;overflow: hidden;text-align: left;background-color: #f0f8ff;}#sk-container-id-3 div.sk-toggleable__content pre {margin: 0.2em;color: black;border-radius: 0.25em;background-color: #f0f8ff;}#sk-container-id-3 input.sk-toggleable__control:checked~div.sk-toggleable__content {max-height: 200px;max-width: 100%;overflow: auto;}#sk-container-id-3 input.sk-toggleable__control:checked~label.sk-toggleable__label-arrow:before {content: \"▾\";}#sk-container-id-3 div.sk-estimator input.sk-toggleable__control:checked~label.sk-toggleable__label {background-color: #d4ebff;}#sk-container-id-3 div.sk-label input.sk-toggleable__control:checked~label.sk-toggleable__label {background-color: #d4ebff;}#sk-container-id-3 input.sk-hidden--visually {border: 0;clip: rect(1px 1px 1px 1px);clip: rect(1px, 1px, 1px, 1px);height: 1px;margin: -1px;overflow: hidden;padding: 0;position: absolute;width: 1px;}#sk-container-id-3 div.sk-estimator {font-family: monospace;background-color: #f0f8ff;border: 1px dotted black;border-radius: 0.25em;box-sizing: border-box;margin-bottom: 0.5em;}#sk-container-id-3 div.sk-estimator:hover {background-color: #d4ebff;}#sk-container-id-3 div.sk-parallel-item::after {content: \"\";width: 100%;border-bottom: 1px solid gray;flex-grow: 1;}#sk-container-id-3 div.sk-label:hover label.sk-toggleable__label {background-color: #d4ebff;}#sk-container-id-3 div.sk-serial::before {content: \"\";position: absolute;border-left: 1px solid gray;box-sizing: border-box;top: 0;bottom: 0;left: 50%;z-index: 0;}#sk-container-id-3 div.sk-serial {display: flex;flex-direction: column;align-items: center;background-color: white;padding-right: 0.2em;padding-left: 0.2em;position: relative;}#sk-container-id-3 div.sk-item {position: relative;z-index: 1;}#sk-container-id-3 div.sk-parallel {display: flex;align-items: stretch;justify-content: center;background-color: white;position: relative;}#sk-container-id-3 div.sk-item::before, #sk-container-id-3 div.sk-parallel-item::before {content: \"\";position: absolute;border-left: 1px solid gray;box-sizing: border-box;top: 0;bottom: 0;left: 50%;z-index: -1;}#sk-container-id-3 div.sk-parallel-item {display: flex;flex-direction: column;z-index: 1;position: relative;background-color: white;}#sk-container-id-3 div.sk-parallel-item:first-child::after {align-self: flex-end;width: 50%;}#sk-container-id-3 div.sk-parallel-item:last-child::after {align-self: flex-start;width: 50%;}#sk-container-id-3 div.sk-parallel-item:only-child::after {width: 0;}#sk-container-id-3 div.sk-dashed-wrapped {border: 1px dashed gray;margin: 0 0.4em 0.5em 0.4em;box-sizing: border-box;padding-bottom: 0.4em;background-color: white;}#sk-container-id-3 div.sk-label label {font-family: monospace;font-weight: bold;display: inline-block;line-height: 1.2em;}#sk-container-id-3 div.sk-label-container {text-align: center;}#sk-container-id-3 div.sk-container {/* jupyter's `normalize.less` sets `[hidden] { display: none; }` but bootstrap.min.css set `[hidden] { display: none !important; }` so we also need the `!important` here to be able to override the default hidden behavior on the sphinx rendered scikit-learn.org. See: https://github.com/scikit-learn/scikit-learn/issues/21755 */display: inline-block !important;position: relative;}#sk-container-id-3 div.sk-text-repr-fallback {display: none;}</style><div id=\"sk-container-id-3\" class=\"sk-top-container\"><div class=\"sk-text-repr-fallback\"><pre>DecisionTreeClassifier(max_depth=5, random_state=42)</pre><b>In a Jupyter environment, please rerun this cell to show the HTML representation or trust the notebook. <br />On GitHub, the HTML representation is unable to render, please try loading this page with nbviewer.org.</b></div><div class=\"sk-container\" hidden><div class=\"sk-item\"><div class=\"sk-estimator sk-toggleable\"><input class=\"sk-toggleable__control sk-hidden--visually\" id=\"sk-estimator-id-3\" type=\"checkbox\" checked><label for=\"sk-estimator-id-3\" class=\"sk-toggleable__label sk-toggleable__label-arrow\">DecisionTreeClassifier</label><div class=\"sk-toggleable__content\"><pre>DecisionTreeClassifier(max_depth=5, random_state=42)</pre></div></div></div></div></div>"
            ]
          },
          "metadata": {},
          "execution_count": 50
        }
      ]
    },
    {
      "cell_type": "code",
      "source": [
        "print(\"Number of features in X_train:\", X_train.shape[1])\n",
        "print(\"Number of feature names provided:\", len(X.columns))\n"
      ],
      "metadata": {
        "id": "InYaIuANgjD6",
        "outputId": "87a012b6-323d-46e0-d0e9-60d1620cab64",
        "colab": {
          "base_uri": "https://localhost:8080/"
        }
      },
      "execution_count": 51,
      "outputs": [
        {
          "output_type": "stream",
          "name": "stdout",
          "text": [
            "Number of features in X_train: 17\n",
            "Number of feature names provided: 10\n"
          ]
        }
      ]
    },
    {
      "cell_type": "code",
      "source": [
        "print(\"Columns in X_train:\")\n",
        "print(X_train.columns)"
      ],
      "metadata": {
        "id": "Yq4I_dYlgseL",
        "outputId": "691ece82-4ca4-4328-dde2-50cc2c969bae",
        "colab": {
          "base_uri": "https://localhost:8080/"
        }
      },
      "execution_count": 52,
      "outputs": [
        {
          "output_type": "stream",
          "name": "stdout",
          "text": [
            "Columns in X_train:\n",
            "Index(['OrderQuantity', 'DateOfemail', 'OrderMonth', 'OrderYear',\n",
            "       'EmailType_0', 'EmailType_1', 'MailOpened_0', 'MailOpened_1',\n",
            "       'MailClicked_0', 'MailClicked_1', 'MailClicked_2', 'timestamp_x_hour',\n",
            "       'timestamp_y_hour', 'DateOfOrder_day', 'DateOfOrder_hour',\n",
            "       'DateOfOrder_month', 'DateOfOrder_year'],\n",
            "      dtype='object')\n"
          ]
        }
      ]
    },
    {
      "cell_type": "code",
      "source": [
        "\n",
        "feature_names = list(X_train.columns)\n",
        "\n",
        "print(\"Feature names list length:\", len(feature_names))\n"
      ],
      "metadata": {
        "id": "qYALZ40ogwix",
        "outputId": "726bd9a6-4dc2-403d-a0cc-422f6d3169ed",
        "colab": {
          "base_uri": "https://localhost:8080/"
        }
      },
      "execution_count": 60,
      "outputs": [
        {
          "output_type": "stream",
          "name": "stdout",
          "text": [
            "Feature names list length: 17\n"
          ]
        }
      ]
    },
    {
      "cell_type": "code",
      "source": [
        "\n",
        "tree_rules = export_text(tree_model, feature_names=list(X_train.columns))\n",
        "print(tree_rules)"
      ],
      "metadata": {
        "id": "6wwjuETIgJob",
        "outputId": "356e7f6a-0780-4cc6-c742-5ee882c02ebd",
        "colab": {
          "base_uri": "https://localhost:8080/"
        }
      },
      "execution_count": 59,
      "outputs": [
        {
          "output_type": "stream",
          "name": "stdout",
          "text": [
            "|--- EmailType_0 <= -2.92\n",
            "|   |--- DateOfOrder_day <= -0.96\n",
            "|   |   |--- OrderQuantity <= -0.56\n",
            "|   |   |   |--- DateOfOrder_day <= -1.44\n",
            "|   |   |   |   |--- timestamp_y_hour <= -0.88\n",
            "|   |   |   |   |   |--- class: Medium\n",
            "|   |   |   |   |--- timestamp_y_hour >  -0.88\n",
            "|   |   |   |   |   |--- class: Low\n",
            "|   |   |   |--- DateOfOrder_day >  -1.44\n",
            "|   |   |   |   |--- DateOfemail <= 1.13\n",
            "|   |   |   |   |   |--- class: Low\n",
            "|   |   |   |   |--- DateOfemail >  1.13\n",
            "|   |   |   |   |   |--- class: Low\n",
            "|   |   |--- OrderQuantity >  -0.56\n",
            "|   |   |   |--- DateOfemail <= -1.08\n",
            "|   |   |   |   |--- DateOfemail <= -1.27\n",
            "|   |   |   |   |   |--- class: Low\n",
            "|   |   |   |   |--- DateOfemail >  -1.27\n",
            "|   |   |   |   |   |--- class: Medium\n",
            "|   |   |   |--- DateOfemail >  -1.08\n",
            "|   |   |   |   |--- DateOfemail <= 2.23\n",
            "|   |   |   |   |   |--- class: Low\n",
            "|   |   |   |   |--- DateOfemail >  2.23\n",
            "|   |   |   |   |   |--- class: Low\n",
            "|   |--- DateOfOrder_day >  -0.96\n",
            "|   |   |--- DateOfemail <= 0.85\n",
            "|   |   |   |--- DateOfOrder_day <= -0.17\n",
            "|   |   |   |   |--- OrderQuantity <= -0.25\n",
            "|   |   |   |   |   |--- class: Low\n",
            "|   |   |   |   |--- OrderQuantity >  -0.25\n",
            "|   |   |   |   |   |--- class: Low\n",
            "|   |   |   |--- DateOfOrder_day >  -0.17\n",
            "|   |   |   |   |--- OrderQuantity <= 3.40\n",
            "|   |   |   |   |   |--- class: Low\n",
            "|   |   |   |   |--- OrderQuantity >  3.40\n",
            "|   |   |   |   |   |--- class: Low\n",
            "|   |   |--- DateOfemail >  0.85\n",
            "|   |   |   |--- DateOfemail <= 0.90\n",
            "|   |   |   |   |--- DateOfemail <= 0.90\n",
            "|   |   |   |   |   |--- class: Low\n",
            "|   |   |   |   |--- DateOfemail >  0.90\n",
            "|   |   |   |   |   |--- class: Medium\n",
            "|   |   |   |--- DateOfemail >  0.90\n",
            "|   |   |   |   |--- DateOfemail <= 2.22\n",
            "|   |   |   |   |   |--- class: Low\n",
            "|   |   |   |   |--- DateOfemail >  2.22\n",
            "|   |   |   |   |   |--- class: Low\n",
            "|--- EmailType_0 >  -2.92\n",
            "|   |--- OrderQuantity <= 3.40\n",
            "|   |   |--- OrderQuantity <= 0.39\n",
            "|   |   |   |--- DateOfOrder_day <= -1.12\n",
            "|   |   |   |   |--- DateOfOrder_day <= -1.77\n",
            "|   |   |   |   |   |--- class: Low\n",
            "|   |   |   |   |--- DateOfOrder_day >  -1.77\n",
            "|   |   |   |   |   |--- class: Low\n",
            "|   |   |   |--- DateOfOrder_day >  -1.12\n",
            "|   |   |   |   |--- DateOfOrder_day <= -0.19\n",
            "|   |   |   |   |   |--- class: Low\n",
            "|   |   |   |   |--- DateOfOrder_day >  -0.19\n",
            "|   |   |   |   |   |--- class: Low\n",
            "|   |   |--- OrderQuantity >  0.39\n",
            "|   |   |   |--- DateOfOrder_day <= -2.45\n",
            "|   |   |   |   |--- class: Medium\n",
            "|   |   |   |--- DateOfOrder_day >  -2.45\n",
            "|   |   |   |   |--- DateOfOrder_day <= 1.15\n",
            "|   |   |   |   |   |--- class: Low\n",
            "|   |   |   |   |--- DateOfOrder_day >  1.15\n",
            "|   |   |   |   |   |--- class: Low\n",
            "|   |--- OrderQuantity >  3.40\n",
            "|   |   |--- DateOfOrder_day <= 0.91\n",
            "|   |   |   |--- OrderQuantity <= 8.60\n",
            "|   |   |   |   |--- OrderQuantity <= 4.35\n",
            "|   |   |   |   |   |--- class: Low\n",
            "|   |   |   |   |--- OrderQuantity >  4.35\n",
            "|   |   |   |   |   |--- class: Low\n",
            "|   |   |   |--- OrderQuantity >  8.60\n",
            "|   |   |   |   |--- DateOfOrder_day <= -0.23\n",
            "|   |   |   |   |   |--- class: Low\n",
            "|   |   |   |   |--- DateOfOrder_day >  -0.23\n",
            "|   |   |   |   |   |--- class: Medium\n",
            "|   |   |--- DateOfOrder_day >  0.91\n",
            "|   |   |   |--- DateOfOrder_day <= 2.21\n",
            "|   |   |   |   |--- OrderQuantity <= 3.64\n",
            "|   |   |   |   |   |--- class: Low\n",
            "|   |   |   |   |--- OrderQuantity >  3.64\n",
            "|   |   |   |   |   |--- class: Medium\n",
            "|   |   |   |--- DateOfOrder_day >  2.21\n",
            "|   |   |   |   |--- timestamp_x_hour <= 1.44\n",
            "|   |   |   |   |   |--- class: Low\n",
            "|   |   |   |   |--- timestamp_x_hour >  1.44\n",
            "|   |   |   |   |   |--- class: Medium\n",
            "\n"
          ]
        }
      ]
    },
    {
      "cell_type": "code",
      "source": [
        "feature_importances = pd.Series(tree_model.feature_importances_, index=X_train.columns)\n",
        "top_features = feature_importances.nlargest(5)\n",
        "print(top_features)"
      ],
      "metadata": {
        "id": "73_9ZzHiWzE8",
        "outputId": "a170464e-b422-49ea-9cc4-c6ee2d5cb775",
        "colab": {
          "base_uri": "https://localhost:8080/"
        }
      },
      "execution_count": 58,
      "outputs": [
        {
          "output_type": "stream",
          "name": "stdout",
          "text": [
            "EmailType_0         0.401329\n",
            "DateOfOrder_day     0.388277\n",
            "OrderQuantity       0.107917\n",
            "DateOfemail         0.092008\n",
            "timestamp_x_hour    0.005715\n",
            "dtype: float64\n"
          ]
        }
      ]
    },
    {
      "cell_type": "code",
      "source": [
        "\n",
        "print(\"Tree Rules:\")\n",
        "print(tree_rules)\n",
        "\n",
        "print(\"Feature Importances:\")\n",
        "print(feature_importances)\n",
        "print(\"Top Features:\")\n",
        "print(top_features)\n"
      ],
      "metadata": {
        "id": "BsnHiaEah7Y6",
        "outputId": "841433a7-8886-4cf7-b7f8-8f5dbbb4e2de",
        "colab": {
          "base_uri": "https://localhost:8080/"
        }
      },
      "execution_count": 57,
      "outputs": [
        {
          "output_type": "stream",
          "name": "stdout",
          "text": [
            "Tree Rules:\n",
            "|--- EmailType_0 <= -2.92\n",
            "|   |--- DateOfOrder_day <= -0.96\n",
            "|   |   |--- OrderQuantity <= -0.56\n",
            "|   |   |   |--- DateOfOrder_day <= -1.44\n",
            "|   |   |   |   |--- timestamp_y_hour <= -0.88\n",
            "|   |   |   |   |   |--- class: Medium\n",
            "|   |   |   |   |--- timestamp_y_hour >  -0.88\n",
            "|   |   |   |   |   |--- class: Low\n",
            "|   |   |   |--- DateOfOrder_day >  -1.44\n",
            "|   |   |   |   |--- DateOfemail <= 1.13\n",
            "|   |   |   |   |   |--- class: Low\n",
            "|   |   |   |   |--- DateOfemail >  1.13\n",
            "|   |   |   |   |   |--- class: Low\n",
            "|   |   |--- OrderQuantity >  -0.56\n",
            "|   |   |   |--- DateOfemail <= -1.08\n",
            "|   |   |   |   |--- DateOfemail <= -1.27\n",
            "|   |   |   |   |   |--- class: Low\n",
            "|   |   |   |   |--- DateOfemail >  -1.27\n",
            "|   |   |   |   |   |--- class: Medium\n",
            "|   |   |   |--- DateOfemail >  -1.08\n",
            "|   |   |   |   |--- DateOfemail <= 2.23\n",
            "|   |   |   |   |   |--- class: Low\n",
            "|   |   |   |   |--- DateOfemail >  2.23\n",
            "|   |   |   |   |   |--- class: Low\n",
            "|   |--- DateOfOrder_day >  -0.96\n",
            "|   |   |--- DateOfemail <= 0.85\n",
            "|   |   |   |--- DateOfOrder_day <= -0.17\n",
            "|   |   |   |   |--- OrderQuantity <= -0.25\n",
            "|   |   |   |   |   |--- class: Low\n",
            "|   |   |   |   |--- OrderQuantity >  -0.25\n",
            "|   |   |   |   |   |--- class: Low\n",
            "|   |   |   |--- DateOfOrder_day >  -0.17\n",
            "|   |   |   |   |--- OrderQuantity <= 3.40\n",
            "|   |   |   |   |   |--- class: Low\n",
            "|   |   |   |   |--- OrderQuantity >  3.40\n",
            "|   |   |   |   |   |--- class: Low\n",
            "|   |   |--- DateOfemail >  0.85\n",
            "|   |   |   |--- DateOfemail <= 0.90\n",
            "|   |   |   |   |--- DateOfemail <= 0.90\n",
            "|   |   |   |   |   |--- class: Low\n",
            "|   |   |   |   |--- DateOfemail >  0.90\n",
            "|   |   |   |   |   |--- class: Medium\n",
            "|   |   |   |--- DateOfemail >  0.90\n",
            "|   |   |   |   |--- DateOfemail <= 2.22\n",
            "|   |   |   |   |   |--- class: Low\n",
            "|   |   |   |   |--- DateOfemail >  2.22\n",
            "|   |   |   |   |   |--- class: Low\n",
            "|--- EmailType_0 >  -2.92\n",
            "|   |--- OrderQuantity <= 3.40\n",
            "|   |   |--- OrderQuantity <= 0.39\n",
            "|   |   |   |--- DateOfOrder_day <= -1.12\n",
            "|   |   |   |   |--- DateOfOrder_day <= -1.77\n",
            "|   |   |   |   |   |--- class: Low\n",
            "|   |   |   |   |--- DateOfOrder_day >  -1.77\n",
            "|   |   |   |   |   |--- class: Low\n",
            "|   |   |   |--- DateOfOrder_day >  -1.12\n",
            "|   |   |   |   |--- DateOfOrder_day <= -0.19\n",
            "|   |   |   |   |   |--- class: Low\n",
            "|   |   |   |   |--- DateOfOrder_day >  -0.19\n",
            "|   |   |   |   |   |--- class: Low\n",
            "|   |   |--- OrderQuantity >  0.39\n",
            "|   |   |   |--- DateOfOrder_day <= -2.45\n",
            "|   |   |   |   |--- class: Medium\n",
            "|   |   |   |--- DateOfOrder_day >  -2.45\n",
            "|   |   |   |   |--- DateOfOrder_day <= 1.15\n",
            "|   |   |   |   |   |--- class: Low\n",
            "|   |   |   |   |--- DateOfOrder_day >  1.15\n",
            "|   |   |   |   |   |--- class: Low\n",
            "|   |--- OrderQuantity >  3.40\n",
            "|   |   |--- DateOfOrder_day <= 0.91\n",
            "|   |   |   |--- OrderQuantity <= 8.60\n",
            "|   |   |   |   |--- OrderQuantity <= 4.35\n",
            "|   |   |   |   |   |--- class: Low\n",
            "|   |   |   |   |--- OrderQuantity >  4.35\n",
            "|   |   |   |   |   |--- class: Low\n",
            "|   |   |   |--- OrderQuantity >  8.60\n",
            "|   |   |   |   |--- DateOfOrder_day <= -0.23\n",
            "|   |   |   |   |   |--- class: Low\n",
            "|   |   |   |   |--- DateOfOrder_day >  -0.23\n",
            "|   |   |   |   |   |--- class: Medium\n",
            "|   |   |--- DateOfOrder_day >  0.91\n",
            "|   |   |   |--- DateOfOrder_day <= 2.21\n",
            "|   |   |   |   |--- OrderQuantity <= 3.64\n",
            "|   |   |   |   |   |--- class: Low\n",
            "|   |   |   |   |--- OrderQuantity >  3.64\n",
            "|   |   |   |   |   |--- class: Medium\n",
            "|   |   |   |--- DateOfOrder_day >  2.21\n",
            "|   |   |   |   |--- timestamp_x_hour <= 1.44\n",
            "|   |   |   |   |   |--- class: Low\n",
            "|   |   |   |   |--- timestamp_x_hour >  1.44\n",
            "|   |   |   |   |   |--- class: Medium\n",
            "\n",
            "Feature Importances:\n",
            "OrderQuantity        0.107917\n",
            "DateOfemail          0.092008\n",
            "OrderMonth           0.000000\n",
            "OrderYear            0.000000\n",
            "EmailType_0          0.401329\n",
            "EmailType_1          0.000000\n",
            "MailOpened_0         0.000000\n",
            "MailOpened_1         0.000000\n",
            "MailClicked_0        0.000000\n",
            "MailClicked_1        0.000000\n",
            "MailClicked_2        0.000000\n",
            "timestamp_x_hour     0.005715\n",
            "timestamp_y_hour     0.004754\n",
            "DateOfOrder_day      0.388277\n",
            "DateOfOrder_hour     0.000000\n",
            "DateOfOrder_month    0.000000\n",
            "DateOfOrder_year     0.000000\n",
            "dtype: float64\n",
            "Top Features:\n",
            "EmailType_0         0.401329\n",
            "DateOfOrder_day     0.388277\n",
            "OrderQuantity       0.107917\n",
            "DateOfemail         0.092008\n",
            "timestamp_x_hour    0.005715\n",
            "dtype: float64\n"
          ]
        }
      ]
    }
  ],
  "metadata": {
    "colab": {
      "provenance": []
    },
    "kernelspec": {
      "display_name": "Python 3",
      "name": "python3"
    }
  },
  "nbformat": 4,
  "nbformat_minor": 0
}